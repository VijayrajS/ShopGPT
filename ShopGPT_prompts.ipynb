{
  "nbformat": 4,
  "nbformat_minor": 0,
  "metadata": {
    "colab": {
      "provenance": []
    },
    "kernelspec": {
      "name": "python3",
      "display_name": "Python 3"
    },
    "language_info": {
      "name": "python"
    }
  },
  "cells": [
    {
      "cell_type": "code",
      "execution_count": null,
      "metadata": {
        "colab": {
          "base_uri": "https://localhost:8080/"
        },
        "id": "v5652zBdtgRY",
        "outputId": "c0b52869-0909-474c-8a20-19bcd0819f56"
      },
      "outputs": [
        {
          "output_type": "stream",
          "name": "stdout",
          "text": [
            "Collecting openai\n",
            "  Downloading openai-1.3.7-py3-none-any.whl (221 kB)\n",
            "\u001b[2K     \u001b[90m━━━━━━━━━━━━━━━━━━━━━━━━━━━━━━━━━━━━━━━━\u001b[0m \u001b[32m221.4/221.4 kB\u001b[0m \u001b[31m2.7 MB/s\u001b[0m eta \u001b[36m0:00:00\u001b[0m\n",
            "\u001b[?25hRequirement already satisfied: anyio<4,>=3.5.0 in /usr/local/lib/python3.10/dist-packages (from openai) (3.7.1)\n",
            "Requirement already satisfied: distro<2,>=1.7.0 in /usr/lib/python3/dist-packages (from openai) (1.7.0)\n",
            "Collecting httpx<1,>=0.23.0 (from openai)\n",
            "  Downloading httpx-0.25.2-py3-none-any.whl (74 kB)\n",
            "\u001b[2K     \u001b[90m━━━━━━━━━━━━━━━━━━━━━━━━━━━━━━━━━━━━━━━━\u001b[0m \u001b[32m75.0/75.0 kB\u001b[0m \u001b[31m4.8 MB/s\u001b[0m eta \u001b[36m0:00:00\u001b[0m\n",
            "\u001b[?25hRequirement already satisfied: pydantic<3,>=1.9.0 in /usr/local/lib/python3.10/dist-packages (from openai) (1.10.13)\n",
            "Requirement already satisfied: sniffio in /usr/local/lib/python3.10/dist-packages (from openai) (1.3.0)\n",
            "Requirement already satisfied: tqdm>4 in /usr/local/lib/python3.10/dist-packages (from openai) (4.66.1)\n",
            "Requirement already satisfied: typing-extensions<5,>=4.5 in /usr/local/lib/python3.10/dist-packages (from openai) (4.5.0)\n",
            "Requirement already satisfied: idna>=2.8 in /usr/local/lib/python3.10/dist-packages (from anyio<4,>=3.5.0->openai) (3.6)\n",
            "Requirement already satisfied: exceptiongroup in /usr/local/lib/python3.10/dist-packages (from anyio<4,>=3.5.0->openai) (1.2.0)\n",
            "Requirement already satisfied: certifi in /usr/local/lib/python3.10/dist-packages (from httpx<1,>=0.23.0->openai) (2023.11.17)\n",
            "Collecting httpcore==1.* (from httpx<1,>=0.23.0->openai)\n",
            "  Downloading httpcore-1.0.2-py3-none-any.whl (76 kB)\n",
            "\u001b[2K     \u001b[90m━━━━━━━━━━━━━━━━━━━━━━━━━━━━━━━━━━━━━━━━\u001b[0m \u001b[32m76.9/76.9 kB\u001b[0m \u001b[31m5.2 MB/s\u001b[0m eta \u001b[36m0:00:00\u001b[0m\n",
            "\u001b[?25hCollecting h11<0.15,>=0.13 (from httpcore==1.*->httpx<1,>=0.23.0->openai)\n",
            "  Downloading h11-0.14.0-py3-none-any.whl (58 kB)\n",
            "\u001b[2K     \u001b[90m━━━━━━━━━━━━━━━━━━━━━━━━━━━━━━━━━━━━━━━━\u001b[0m \u001b[32m58.3/58.3 kB\u001b[0m \u001b[31m6.0 MB/s\u001b[0m eta \u001b[36m0:00:00\u001b[0m\n",
            "\u001b[?25hInstalling collected packages: h11, httpcore, httpx, openai\n",
            "\u001b[31mERROR: pip's dependency resolver does not currently take into account all the packages that are installed. This behaviour is the source of the following dependency conflicts.\n",
            "llmx 0.0.15a0 requires cohere, which is not installed.\n",
            "llmx 0.0.15a0 requires tiktoken, which is not installed.\u001b[0m\u001b[31m\n",
            "\u001b[0mSuccessfully installed h11-0.14.0 httpcore-1.0.2 httpx-0.25.2 openai-1.3.7\n"
          ]
        }
      ],
      "source": [
        "pip install --upgrade openai"
      ]
    },
    {
      "cell_type": "code",
      "source": [
        "from google.colab import drive\n",
        "drive.mount(\"/content/drive\")"
      ],
      "metadata": {
        "id": "clDLW0Ym_rnS",
        "colab": {
          "base_uri": "https://localhost:8080/"
        },
        "outputId": "55ae6614-eb92-499f-f7bc-2f6a6686b48f"
      },
      "execution_count": null,
      "outputs": [
        {
          "output_type": "stream",
          "name": "stdout",
          "text": [
            "Mounted at /content/drive\n"
          ]
        }
      ]
    },
    {
      "cell_type": "code",
      "source": [
        "reviews_path = \"/content/drive/MyDrive/bdsa_data/Musical_Instruments.json\" #change to the Drive path where the review data is stored"
      ],
      "metadata": {
        "id": "DoGNn-VCD8BL"
      },
      "execution_count": null,
      "outputs": []
    },
    {
      "cell_type": "code",
      "source": [
        "products_considered = [\"B00I11N2VO\",\"B00I13N9NI\",\"B00TY2X188\",\"B000L6GD04\"] #a few example products from dataset"
      ],
      "metadata": {
        "id": "3cHXcGSAFtVS"
      },
      "execution_count": null,
      "outputs": []
    },
    {
      "cell_type": "code",
      "source": [
        "import json\n",
        "\n",
        "# Assuming the JSON file is named \"your_file.json\"\n",
        "with open(reviews_path, \"r\") as file:\n",
        "    reviews = {}\n",
        "\n",
        "    # Iterate through each line in the JSON file\n",
        "    for line in file:\n",
        "        # Load each line as JSON\n",
        "        try:\n",
        "            row = json.loads(line)\n",
        "        except json.JSONDecodeError as e:\n",
        "            print(f\"Error decoding JSON: {e}\")\n",
        "            continue  # Skip to the next line if there\"s an error\n",
        "\n",
        "        # Extract relevant information\n",
        "        asin = row.get(\"asin\")\n",
        "        if asin not in products_considered:\n",
        "          continue\n",
        "        overall = row.get(\"overall\")\n",
        "        review_text = row.get(\"reviewText\")\n",
        "        review_time = row.get(\"reviewTime\")\n",
        "\n",
        "        # Create a dictionary for each review\n",
        "        review_info = {\n",
        "            \"rating\": overall,\n",
        "            \"reviewText\": review_text,\n",
        "            \"reviewTime\": review_time\n",
        "        }\n",
        "\n",
        "        # Check if the asin is already in the dictionary\n",
        "        if asin in reviews:\n",
        "            reviews[asin].append(review_info)\n",
        "        else:\n",
        "            reviews[asin] = [review_info]"
      ],
      "metadata": {
        "id": "4IFNXjR_A2lT"
      },
      "execution_count": null,
      "outputs": []
    },
    {
      "cell_type": "code",
      "source": [
        "for product in products_considered:\n",
        "    print(\"Number of reviews for\", product, \":\", len(reviews[product]))"
      ],
      "metadata": {
        "colab": {
          "base_uri": "https://localhost:8080/"
        },
        "id": "snTusuQQFZ_j",
        "outputId": "a75cd64a-25f8-4a58-83f3-cc9496dbbe95"
      },
      "execution_count": null,
      "outputs": [
        {
          "output_type": "stream",
          "name": "stdout",
          "text": [
            "Number of reviews for B00I11N2VO : 45\n",
            "Number of reviews for B00I13N9NI : 163\n",
            "Number of reviews for B00TY2X188 : 40\n",
            "Number of reviews for B000L6GD04 : 608\n"
          ]
        }
      ]
    },
    {
      "cell_type": "code",
      "source": [
        "PROMPT_20 = \"You are an Amazon AI shopping assistant. Your task is summarizing multiple amazon reviews for a given product under these headings \\\"Whats good about the product\\\" (Should cover only the positive thing about the product not about shipping or delivery or quickness of delivery only the product), \\\"whats bad about the product (specifics about what is bad about the product not shipping or delivery)\\\", \\\"Delivery issues (Any shipping or damage or delivery issues that came up)\\\". You have to make the review as information rich as possible and as useful for the customer. You also have to come up with a net rating out of 5, using existing user ratings from the field \\“rating\\”, and also justify why you gave that rating. You have to generate the summary for all the attached 20 or less reviews. Now let us see how will you get the input responses. The input responses will be json format a list of kind {\\'rating\\': 5.0,\\'reviewText\\': \\'Better than i expect\\',\\'reviewTime\\': \\'12 13, 2016\\'}. You have to summarize the entire list of reviews. Now lets see how you generate the summary.Your task is to give a Summarized 100-150 word review under the subheadings of \\\"Whats good about the product\\\" (Should cover only the positive thing about the product not about shipping or delivery or quickness of delivery only the product), \\\"whats bad about the product (specifics about what is bad about the product not shipping or delivery)\\\", \\\"Delivery issues (Any shipping or damage or delivery issues that came up)\\\" ,Make it a nice summary which easy for a customer to read, this should help the customer with his/her shopping experience. Make sure to only give summaries under the asked headings by using function calling. Also note that sometimes the input lenght can be as low as 1 review, so always use function calling and return a summary as instructed.\"\n",
        "PROMPT_latest = \"You are an Amazon AI shopping assistant, which summarizes the latest reviews of the product. Your task is summarizing the latest 20 multiple amazon reviews for a given product under its pros and cons. Do not use bullets or headings, just a 3-4 line review of what are the pros and cons of the product. You have to make the review as information rich as possible and as useful for the user. For such a prompt, you have to generate the summary for all the attached 20 reviews. Now let us see how will you get the input responses. The input responses will be json format a list of kind {\\'rating\\': 5.0,\\'reviewText\\': \\'Better than i expect\\',\\'reviewTime\\': \\'12 13, 2016\\'}. You have to summarize the entire list of reviews. Now lets see how you generate the summary.Your task is to give a Summarized 80 word review. Make it a nice summary which easy for a customer to read, this should help the customer with his/her shopping experience. \"\n",
        "PROMPT_COMBINE = \"You are a summary combiner for Amazon AI shopping assistant. You will receive a stringified list of json summary objects. Your task is Combining multiple summaries generated together into a SINGLE summary. Each of the summaries will have the same json format. You have to combine all the summaries together into a summary under the same format, within 100-150 words. REMEMBER it is a review, you should not miss out on any key information mentioned about the product while combining the reviews. So do it in a way that your summary helps the user in shopping. Each summary will also have a net rating. So you also have to come up with a combined net rating for these summarie. Always use function calling while combining these summary and return responses in a deterministic json format as instructed\"\n",
        "PROMPT_RATING = \"You are an Amazon AI shopping assistant. Your task is summarizing multiple amazon reviews for a given product, under 5 rating headings. You have to make the review as information rich as possible and as useful for the customer. You also have to come up with a net rating out of 5, using existing user ratings from the field \\“rating\\”, and also justify why you gave that rating. The input responses will be json format a list of kind {\\'rating\\': 5.0,\\'reviewText\\': \\'Better than i expect\\',\\'reviewTime\\': \\'12 13, 2016\\'}. You have to summarize the entire list of 20 reviews, in the current response, including the ones from the previous responses.Your task is to give a Summarised 80 word review under the subheadings of \\\"Rating : 1\\\" (Should only summaries reviews with \\'rating\\' as 1),\\\"Rating : 2\\\" (Should only summaries reviews with \\'rating\\' as 2), \\\"Rating : 3\\\" (Should only summaries reviews with \\'rating\\' as 3), \\\"Rating : 4\\\" (Should only summaries reviews with \\'rating\\' as 4), and \\\"Rating : 5\\\" (Should only summaries reviews with \\'rating\\' as 5). Make it a nice summary which easy for a customer to read, this should help the customer with his/her shopping experience. Also mention the support for each of the issues and positives, that is how many reviews support those claims.\"\n",
        "PROMPT_COMBINE_RATING = \"You are a summary combiner and for Amazon AI shopping assistant. Your task is Combining multiple summaries generated together into a single summary. Each of the summaries will have the same subheadings,\\\"Rating : 1\\\" ,\\\"Rating : 2\\\" , \\\"Rating : 3\\\" , \\\"Rating : 4\\\" , and \\\"Rating : 5\\\" . You have to combine all the summaries together into a summary under the same headings, within 100 words. REMEMBER it is a review, you should not miss out on any key information mentioned about the product while combining the reviews. So do it in a way that your summary helps the user in shopping. Take care that you incorporate all records of reviews and are correct mathematically. Make sure if some summary has a review for a specific rating that it is included\"\n",
        "PROMPT_TEXT_JSON_COMBINE = \"You are given a summary of a product. You need to return this summary as a JSON with the fields: \\\"Whats good about the product\\\" (Should cover only the positive thing about the product not about shipping or delivery or quickness of delivery only the product), \\\"whats bad about the product (specifics about what is bad about the product not shipping or delivery)\\\", \\\"Delivery issues (Any shipping or damage or delivery issues that came up)\\\", \\\"Net Rating (A numeric rating out of 5 where 0 indicates bad product and 5 indicates amazing product)\\\", \\\"Justification (A justification for the net rating you provided)\\\". Follow function calling for the exact JSON format. Your response should at least have 100 words.\"\n",
        "RECOMMEND_PROMPT = \"You are a product recommender, the user will provide a description of what kind of a product they are looking for. you will also be given a json file of product information as text input. The json will have the product asin as key, and the values will have the meta information features as key and values, along with review as a key. You should recommend giving high weightage to the reviews, and also to the product information. You have to output the asin (key) of the product. You only recommend a single product.\"\n",
        "GET_TAGS = \"You are an amazon attribute generator. Given a  set of 30 product reviews, you need to extract the attributes of the product from the reviews. The attribute is a characteristic that the product possesses that can be described as good or bad. The attribute does not denote what the product is, or what variant of the product it is. I need a list of EXACTLY 6 attributes. No other filler text in your response\""
      ],
      "metadata": {
        "id": "4Qj2VffBLdCQ"
      },
      "execution_count": null,
      "outputs": []
    },
    {
      "cell_type": "code",
      "source": [
        "#summarization function call\n",
        "functions = [\n",
        "    {\n",
        "      \"name\": \"formatted_summary\",\n",
        "      \"description\": \"Format the review summary in JSON for a product\",\n",
        "      \"parameters\": {\n",
        "        \"type\":\"object\",\n",
        "        \"properties\": {\n",
        "            \"Whats good about the product\": {\n",
        "                \"type\": \"string\",\n",
        "                \"description\": \"Should cover only the positive thing about the product not about shipping or delivery or quickness of delivery only the product. Within 50 words\"\n",
        "            },\n",
        "            \"Whats bad about the product\": {\n",
        "                \"type\": \"string\",\n",
        "                \"description\": \"Specifics about what is bad about the product not shipping or delivery. Within 50 words\"\n",
        "            },\n",
        "            \"Delivery issues\": {\n",
        "                \"type\": \"string\",\n",
        "                \"description\": \"Any shipping or damage or delivery issues that came up. Within 20 words\"\n",
        "            },\n",
        "            \"Net Rating\": {\n",
        "                \"type\": \"number\",\n",
        "                \"description\": \"Overall Rating of the Product out of 5. It is a float value\"\n",
        "            },\n",
        "            \"Justification\": {\n",
        "                \"type\": \"string\",\n",
        "                \"description\": \"Justification for the rating, within 20 words\"\n",
        "            }\n",
        "        }\n",
        "  }\n",
        "    }\n",
        "]\n",
        "\n",
        "#attributes function call\n",
        "functions_attribute = [\n",
        "    {\n",
        "      \"name\": \"attributes\",\n",
        "      \"description\": \"Extract attributes from reviews\",\n",
        "      \"output\": {\n",
        "        \"type\":\"array\",\n",
        "      \"items\": {\n",
        "          \"type\": \"string\"\n",
        "      }\n",
        "  }\n",
        "    }\n",
        "]\n",
        "\n",
        "#combine summaries function call\n",
        "functions_combine = [\n",
        "    {\n",
        "      \"name\": \"formatted_combined_summary\",\n",
        "      \"description\": \"You are given a list of jsons representing the summary for a product. Each json contains the fields - 'Whats good about the product', 'Whats bad about the product', 'Delivery issues', 'Net Rating' and 'Justification'. Summarize and combine these jsons into a single json with the same 5 fields.\",\n",
        "      \"parameters\": {\n",
        "        \"type\":\"object\",\n",
        "        \"properties\": {\n",
        "            \"Whats good about the product\": {\n",
        "                \"type\": \"string\",\n",
        "                \"description\": \"should contain the combined summary of the input json field 'Whats good about the product' across all the given summaries, within 70 words\"\n",
        "            },\n",
        "            \"Whats bad about the product\": {\n",
        "                \"type\": \"string\",\n",
        "                \"description\": \"should contain the combined summary of the input json field 'Whats bad about the product' values across all the given summaries, within 70 words\"\n",
        "            },\n",
        "            \"Delivery issues\": {\n",
        "                \"type\": \"string\",\n",
        "                \"description\": \"should contain the combined summary of the input json field 'delivery issues' across all the given summaries within 30 words\"\n",
        "            },\n",
        "            \"Net Rating\": {\n",
        "                \"type\": \"number\",\n",
        "                \"description\": \"Overall Rating of the Product out of 5. use the 'Net Rating' of the input jsons to combine them logically\"\n",
        "            },\n",
        "            \"Justification\": {\n",
        "                \"type\": \"string\",\n",
        "                \"description\": \"Justification for the rating, within 20 words, summarised from the combined 'justifications' of all the input jsons\"\n",
        "            }\n",
        "        }\n",
        "  }\n",
        "    }\n",
        "]"
      ],
      "metadata": {
        "id": "PvnIVCwU_KIw"
      },
      "execution_count": null,
      "outputs": []
    },
    {
      "cell_type": "code",
      "source": [
        "from openai import OpenAI\n",
        "import os\n",
        "import time\n",
        "import ast\n",
        "os.environ[\"OPENAI_API_KEY\"] = \"YOUR_API_KEY\"\n",
        "\n",
        "def get_summaries_chat_gpt(product, prompt):\n",
        "\n",
        "\n",
        "  num_reviews = len(reviews[product])\n",
        "  summaries = []\n",
        "  messages=[\n",
        "    {\"role\": \"system\", \"content\": prompt},\n",
        "  ]\n",
        "\n",
        "  chunk_size = 15\n",
        "\n",
        "  for i in range(0,num_reviews,chunk_size):\n",
        "\n",
        "    client = OpenAI()\n",
        "    messages=[\n",
        "        {\"role\": \"system\", \"content\": prompt}]\n",
        "    messages.append({\"role\":\"user\",\"content\":f\" {reviews[product][i:i+chunk_size]}\"})\n",
        "    completion = client.chat.completions.create(\n",
        "      model=\"gpt-3.5-turbo\",\n",
        "      messages=messages,\n",
        "      functions = functions,\n",
        "      function_call='auto'\n",
        "    )\n",
        "\n",
        "    print(\"Generated one summary\")\n",
        "    args = completion.choices[0].message.function_call.arguments\n",
        "    try:\n",
        "      output = json.loads(args)\n",
        "      summaries.append(output)\n",
        "    except:\n",
        "      print (\"Incorrect JSON format returned.\")\n",
        "    time.sleep(10)\n",
        "\n",
        "  return summaries\n",
        "\n",
        "def combine_summaries_chat_gpt(summaries, prompt, product):\n",
        "  client = OpenAI()\n",
        "  messages=[\n",
        "    {\"role\": \"user\", \"content\": prompt},\n",
        "  ]\n",
        "  messages.append({\"role\":\"user\",\"content\":f\" {summaries}\"})\n",
        "\n",
        "  completion = client.chat.completions.create(\n",
        "      model=\"gpt-3.5-turbo\",\n",
        "      messages=messages\n",
        "    )\n",
        "  combined_summary = completion.choices[0].message.content\n",
        "\n",
        "  messages=[\n",
        "    {\"role\": \"user\", \"content\": PROMPT_TEXT_JSON_COMBINE},\n",
        "  ]\n",
        "  messages.append({\"role\":\"user\",\"content\":f\" {combined_summary}\"})\n",
        "\n",
        "  completion = client.chat.completions.create(\n",
        "      model=\"gpt-3.5-turbo\",\n",
        "      messages=messages,\n",
        "      functions = functions_combine,\n",
        "      function_call='auto'\n",
        "    )\n",
        "\n",
        "  args = completion.choices[0].message.function_call.arguments\n",
        "\n",
        "  try:\n",
        "    output = ast.literal_eval(args)\n",
        "  except:\n",
        "    output = json.loads(args)\n",
        "  return {product:output}"
      ],
      "metadata": {
        "id": "DfTFOpTeG_Yr"
      },
      "execution_count": null,
      "outputs": []
    },
    {
      "cell_type": "markdown",
      "source": [
        "### Summarize chunked reviews in JSON format"
      ],
      "metadata": {
        "id": "s3x8hzRogXA5"
      }
    },
    {
      "cell_type": "code",
      "source": [
        "%%time\n",
        "product = \"B00I11N2VO\"\n",
        "file_name = \"B00I11N2VO_summaries_15.json\"\n",
        "summaries = get_summaries_chat_gpt(product,PROMPT_20)\n",
        "with open(file_name, \"w\") as outfile:\n",
        "    json.dump(summaries, outfile)"
      ],
      "metadata": {
        "colab": {
          "base_uri": "https://localhost:8080/"
        },
        "id": "vg5O_b0ggD1f",
        "outputId": "13d52f18-5af9-4e0a-ea29-42e0d153287e"
      },
      "execution_count": null,
      "outputs": [
        {
          "output_type": "stream",
          "name": "stdout",
          "text": [
            "Generated one summary\n",
            "Generated one summary\n",
            "Generated one summary\n",
            "CPU times: user 735 ms, sys: 46.2 ms, total: 781 ms\n",
            "Wall time: 58.8 s\n"
          ]
        }
      ]
    },
    {
      "cell_type": "markdown",
      "source": [
        "### Combine summaries into JSON format"
      ],
      "metadata": {
        "id": "ifnXhUcfgdgi"
      }
    },
    {
      "cell_type": "code",
      "source": [
        "%%time\n",
        "combine_file_name = \"B00I11N2VO_combined_20.json\"\n",
        "combined_summary = combine_summaries_chat_gpt(summaries, PROMPT_COMBINE, product)\n",
        "with open(combine_file_name, \"w\") as outfile:\n",
        "    json.dump(combined_summary, outfile)"
      ],
      "metadata": {
        "colab": {
          "base_uri": "https://localhost:8080/"
        },
        "id": "HFVSftv2gHGh",
        "outputId": "6a0c85b3-b6ce-4f59-d966-cac49707dfdd"
      },
      "execution_count": null,
      "outputs": [
        {
          "output_type": "stream",
          "name": "stdout",
          "text": [
            "CPU times: user 290 ms, sys: 17.3 ms, total: 307 ms\n",
            "Wall time: 33.4 s\n"
          ]
        }
      ]
    },
    {
      "cell_type": "markdown",
      "source": [
        "### Generate tags and sentiments for tags for each review"
      ],
      "metadata": {
        "id": "3vXo9xdNgxGC"
      }
    },
    {
      "cell_type": "code",
      "source": [
        "GET_TAGS = \"You are an amazon review attribute generator. Use the function attributes to get 6 attributes. Given a set of 20 product reviews, you need to extract EXACTLY 6 attributes of the product from the reviews. The attribute is a SINGLE WORD characteristic that the product possesses that can be described as good or bad. The attribute does not denote what the product is, or what variant of the product it is. Give EXACTLY 6 attributes\"\n",
        "\n",
        "product = 'B00I11N2VO'\n",
        "num_reviews = len(reviews[product])\n",
        "messages=[\n",
        "  {\"role\": \"system\", \"content\": GET_TAGS},\n",
        "]\n",
        "functions_attribute = [\n",
        "    {\n",
        "      \"name\": \"attributes\",\n",
        "      \"description\": \"Extract attributes from reviews\",\n",
        "      \"parameters\": {\n",
        "        \"type\":\"object\",\n",
        "        \"properties\":{\n",
        "            \"attributes\": {\n",
        "            \"type\": \"array\",\n",
        "            \"description\":f\"The list of 6 tags extracted from the reviews. Infer these from the review text.\",\n",
        "            \"items\":{\n",
        "                \"type\":\"string\",\n",
        "                \"description\":\"a tag\"\n",
        "            }\n",
        "          }\n",
        "        }\n",
        "      }\n",
        "    }\n",
        "]\n",
        "\n",
        "for i in range(0,num_reviews,20):\n",
        "\n",
        "  client = OpenAI()\n",
        "  texts = [x['reviewText'] for x in reviews[product][i:i+20]]\n",
        "  messages.append({\"role\":\"user\",\"content\":f\" Generate 6 tags for the attached reviews. reviews:{texts}\"})\n",
        "\n",
        "  completion = client.chat.completions.create(\n",
        "    model=\"gpt-3.5-turbo\",\n",
        "    messages=messages,\n",
        "      functions= functions_attribute,\n",
        "    function_call=\"auto\",\n",
        "    # temperature=1\n",
        "  )\n",
        "\n",
        "  print(\"Generated one attributes\")\n",
        "  args = completion.choices[0].message.function_call.arguments"
      ],
      "metadata": {
        "colab": {
          "base_uri": "https://localhost:8080/"
        },
        "id": "C7rpLjUEmmt4",
        "outputId": "c467632a-fe64-46a2-c1b4-5742e9488143"
      },
      "execution_count": null,
      "outputs": [
        {
          "output_type": "stream",
          "name": "stdout",
          "text": [
            "Generated one attributes\n",
            "Generated one attributes\n",
            "Generated one attributes\n"
          ]
        }
      ]
    },
    {
      "cell_type": "code",
      "source": [
        "print(combine_summaries_chat_gpt(summaries,PROMPT_COMBINE_RATING))"
      ],
      "metadata": {
        "colab": {
          "base_uri": "https://localhost:8080/"
        },
        "id": "khH3r2x87-Eb",
        "outputId": "6dcec465-7f7a-4f43-e04a-54453988810b"
      },
      "execution_count": null,
      "outputs": [
        {
          "output_type": "stream",
          "name": "stdout",
          "text": [
            "Rating : 1\n",
            "No reviews with a rating of 1 were found.\n",
            "\n",
            "Rating : 2\n",
            "No reviews with a rating of 2 were found.\n",
            "\n",
            "Rating : 3\n",
            "No reviews with a rating of 3 were found.\n",
            "\n",
            "Rating : 4\n",
            "One reviewer mentioned that the Velcro backing of the unit is not strong enough to hold such a heavy unit reliably. However, this reviewer was impressed with the solid construction and innovative features of the pedal. The algorithms used for the reverb are excellent, and the pedal covers a wide range of reverb styles. This pedal is a great choice for those on a budget who want a versatile and well-made reverb unit. There were two reviews with a rating of 4. One review mentioned that the pedal has some booming reverbs, but some of the modulation settings are wacky and over-the-top. The other review mentioned that the pedal does better spring reverb than the Boss' 63 Fender Reverb pedal.\n",
            "\n",
            "Rating : 5\n",
            "Many reviewers praised the pedal for its sound quality and versatility. They mentioned that it produces beautiful, ambient, and swirling space noises. The pedal has a low signal to noise ratio and provides the best reverb trails for the price. Reviewers also appreciated the various reverb options, including shimmer. There were 16 reviews with a rating of 5. Customers praised the great sound quality, versatility, and different modes of the pedal. They also mentioned the usefulness of the different settings for ambient and space filling sound. Many customers recommended this pedal for any style of music. Common positives include the beautiful sound, clear and lush reverbs, and sturdy build quality. Some customers mentioned that the power button feels hard and the system isn't very solid. One customer mentioned the pedal's ability to produce ambient reverb and shimmer effects stood out compared to other pedals they considered. Another customer noted the amazing plate sound and the nice and subtle ambient features but mentioned that the tracking on shimmer is not the best. The majority of customers were highly satisfied with the pedal.\n",
            "\n",
            "Overall, the average rating for this product is 4.6 out of 5. While there were a few isolated issues mentioned such as the Velcro backing not being strong enough and some modulation settings being wacky, the overwhelmingly positive reviews support the high rating. The majority of customers praised the great sound quality, versatility, and different modes of the pedal, making it a recommended choice for those looking for a high-quality reverb pedal.\n"
          ]
        }
      ]
    }
  ]
}